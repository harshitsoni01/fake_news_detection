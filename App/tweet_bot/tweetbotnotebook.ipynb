{
 "cells": [
  {
   "cell_type": "code",
   "execution_count": 24,
   "metadata": {},
   "outputs": [],
   "source": [
    "import tweepy\n",
    "import time\n",
    "import joblib\n",
    "\n",
    "#Twitter Bot"
   ]
  },
  {
   "cell_type": "code",
   "execution_count": 26,
   "metadata": {},
   "outputs": [
    {
     "name": "stdout",
     "output_type": "stream",
     "text": [
      "This is my bot!\n"
     ]
    }
   ],
   "source": [
    "print(\"This is my bot!\")\n",
    "\n",
    "CONSUMER_KEY = 'YSyDCRJID0Cj9wGjjCUvkgTAc'\n",
    "CONSUMER_SECRET = 'YH6TOJIGRD81TzOkYXIZzG5wL0NRhHcqAvobL4bc27twfbJPdl'\n",
    "ACCESS_KEY = '1252588880596893696-2ockVNpr0iOA563EOyzPNlEvTStxGo'\n",
    "ACCESS_SECRET = 'J1ZDodrTNPMkAdkBIPUq2dcFzLs67TwoHnpxXQAsfsZP2'\n",
    "\n",
    "auth = tweepy.OAuthHandler(CONSUMER_KEY, CONSUMER_SECRET)\n",
    "auth.set_access_token(ACCESS_KEY, ACCESS_SECRET)\n",
    "api = tweepy.API(auth)\n",
    "\n",
    "\n",
    "FILE_NAME = 'last_seen_id.txt'\n",
    "\n",
    "pipeline = joblib.load('../pipeline_final.sav')"
   ]
  },
  {
   "cell_type": "code",
   "execution_count": 27,
   "metadata": {},
   "outputs": [],
   "source": [
    "#this to reply to tweets only once \n",
    "#this is to retrieve the last seen id\n",
    "def retrieve_last_seen_id(FILE_NAME):\n",
    "    f_read = open(FILE_NAME, 'r')\n",
    "    last_seen_id = int(f_read.read().strip())\n",
    "    f_read.close()\n",
    "    return last_seen_id"
   ]
  },
  {
   "cell_type": "code",
   "execution_count": 28,
   "metadata": {},
   "outputs": [],
   "source": [
    "#this is to store last seen id/rewrite it \n",
    "def store_last_seen_id(last_seen_id, FILE_NAME):\n",
    "    f_write = open(FILE_NAME, 'w')\n",
    "    f_write.write(str(last_seen_id))\n",
    "    \n",
    "    f_write.close()\n",
    "    return\n"
   ]
  },
  {
   "cell_type": "code",
   "execution_count": 29,
   "metadata": {},
   "outputs": [],
   "source": [
    "#Detect if tweet is real or fake news\n",
    "def predict_tweet_news(text):\n",
    "    pred = pipeline.predict(text)\n",
    "    return pred\n"
   ]
  },
  {
   "cell_type": "code",
   "execution_count": 32,
   "metadata": {},
   "outputs": [],
   "source": [
    "\n",
    "def reply_to_tweets():\n",
    "    print('retrieving and replying to tweets...')\n",
    "    last_seen_id = retrieve_last_seen_id(FILE_NAME)\n",
    "    # We need to use tweet_mode='extended' to show all full tweets\n",
    "    \n",
    "    mentions = api.mentions_timeline(\n",
    "                        last_seen_id,\n",
    "                        tweet_mode='extended')\n",
    "    for mention in reversed(mentions):\n",
    "        print(str(mention.id) + ' - ' + mention.full_text)\n",
    "        last_seen_id = mention.id\n",
    "        store_last_seen_id(last_seen_id, FILE_NAME)\n",
    "        if '#news' in mention.full_text.lower():\n",
    "            print('found #news')\n",
    "            print('responding back...')\n",
    "            #this is used to reply to the tweets tagged to us\n",
    "            tweet_received = [mention.full_text]\n",
    "            prediction = predict_tweet_news(tweet_received)\n",
    "            api.update_status(f'#news @{mention.user.screen_name} This is {prediction}!', mention.id)\n",
    "\n"
   ]
  },
  {
   "cell_type": "code",
   "execution_count": 33,
   "metadata": {},
   "outputs": [
    {
     "name": "stdout",
     "output_type": "stream",
     "text": [
      "retrieving and replying to tweets...\n",
      "1279481333803188224 - @AppsoluteNerd hello world #news\n",
      "found #news\n",
      "responding back...\n"
     ]
    }
   ],
   "source": [
    "reply_to_tweets()"
   ]
  },
  {
   "cell_type": "code",
   "execution_count": null,
   "metadata": {},
   "outputs": [],
   "source": []
  }
 ],
 "metadata": {
  "kernelspec": {
   "display_name": "Python 3",
   "language": "python",
   "name": "python3"
  },
  "language_info": {
   "codemirror_mode": {
    "name": "ipython",
    "version": 3
   },
   "file_extension": ".py",
   "mimetype": "text/x-python",
   "name": "python",
   "nbconvert_exporter": "python",
   "pygments_lexer": "ipython3",
   "version": "3.7.7"
  }
 },
 "nbformat": 4,
 "nbformat_minor": 4
}
